{
 "cells": [
  {
   "cell_type": "code",
   "execution_count": 1,
   "metadata": {
    "collapsed": true
   },
   "outputs": [],
   "source": [
    "# 1. downloaded the ACS data, not much cleaning required, stats organized by neighborhood\n",
    "# 2. manually entered the neighborhoods (Community Area) because they were attached in a picture and couldnt be joined as data\n",
    "\n",
    "import pandas as pd\n",
    "df = pd.read_csv(\"ACS_data.csv\", usecols=['GEOG', 'MEDINC', 'VACperc', 'HS', 'BACH', 'POP_25OV',], index_col = 'GEOG')\n",
    "\n",
    "df[\"PopOv25wBach\"] = df[\"BACH\"]/df[\"POP_25OV\"] #turning education characteristics into percentages for comparison across areas\n",
    "df[\"PopOv25wHS\"] = df[\"HS\"]/df[\"POP_25OV\"]\n",
    "df[\"Community Area\"] = \"\" #adding the column for community area code (manually entered)\n",
    "\n",
    "df.to_csv('ACS_data10.csv')"
   ]
  },
  {
   "cell_type": "code",
   "execution_count": 1,
   "metadata": {},
   "outputs": [
    {
     "data": {
      "text/html": [
       "<div>\n",
       "<style>\n",
       "    .dataframe thead tr:only-child th {\n",
       "        text-align: right;\n",
       "    }\n",
       "\n",
       "    .dataframe thead th {\n",
       "        text-align: left;\n",
       "    }\n",
       "\n",
       "    .dataframe tbody tr th {\n",
       "        vertical-align: top;\n",
       "    }\n",
       "</style>\n",
       "<table border=\"1\" class=\"dataframe\">\n",
       "  <thead>\n",
       "    <tr style=\"text-align: right;\">\n",
       "      <th></th>\n",
       "      <th>GEOG</th>\n",
       "      <th>POP_25OV</th>\n",
       "      <th>HS</th>\n",
       "      <th>BACH</th>\n",
       "      <th>MEDINC</th>\n",
       "      <th>VACperc</th>\n",
       "      <th>PopOv25wBach</th>\n",
       "      <th>PopOv25wHS</th>\n",
       "      <th>Community Area</th>\n",
       "    </tr>\n",
       "  </thead>\n",
       "  <tbody>\n",
       "    <tr>\n",
       "      <th>0</th>\n",
       "      <td>Albany Park</td>\n",
       "      <td>34545</td>\n",
       "      <td>26212</td>\n",
       "      <td>10482</td>\n",
       "      <td>51968.84984</td>\n",
       "      <td>0.004454</td>\n",
       "      <td>0.303430</td>\n",
       "      <td>0.758778</td>\n",
       "      <td>14</td>\n",
       "    </tr>\n",
       "    <tr>\n",
       "      <th>1</th>\n",
       "      <td>Archer Heights</td>\n",
       "      <td>7944</td>\n",
       "      <td>5407</td>\n",
       "      <td>888</td>\n",
       "      <td>43393.53612</td>\n",
       "      <td>0.025773</td>\n",
       "      <td>0.111782</td>\n",
       "      <td>0.680639</td>\n",
       "      <td>57</td>\n",
       "    </tr>\n",
       "    <tr>\n",
       "      <th>2</th>\n",
       "      <td>Armour Square</td>\n",
       "      <td>10115</td>\n",
       "      <td>6636</td>\n",
       "      <td>2150</td>\n",
       "      <td>24336.46113</td>\n",
       "      <td>0.023159</td>\n",
       "      <td>0.212556</td>\n",
       "      <td>0.656055</td>\n",
       "      <td>34</td>\n",
       "    </tr>\n",
       "    <tr>\n",
       "      <th>3</th>\n",
       "      <td>Ashburn</td>\n",
       "      <td>26767</td>\n",
       "      <td>22201</td>\n",
       "      <td>5359</td>\n",
       "      <td>63573.16227</td>\n",
       "      <td>0.013212</td>\n",
       "      <td>0.200209</td>\n",
       "      <td>0.829417</td>\n",
       "      <td>70</td>\n",
       "    </tr>\n",
       "    <tr>\n",
       "      <th>4</th>\n",
       "      <td>Auburn Gresham</td>\n",
       "      <td>30659</td>\n",
       "      <td>25304</td>\n",
       "      <td>4273</td>\n",
       "      <td>29388.71473</td>\n",
       "      <td>0.050596</td>\n",
       "      <td>0.139372</td>\n",
       "      <td>0.825337</td>\n",
       "      <td>71</td>\n",
       "    </tr>\n",
       "  </tbody>\n",
       "</table>\n",
       "</div>"
      ],
      "text/plain": [
       "             GEOG  POP_25OV     HS   BACH       MEDINC   VACperc  \\\n",
       "0     Albany Park     34545  26212  10482  51968.84984  0.004454   \n",
       "1  Archer Heights      7944   5407    888  43393.53612  0.025773   \n",
       "2   Armour Square     10115   6636   2150  24336.46113  0.023159   \n",
       "3         Ashburn     26767  22201   5359  63573.16227  0.013212   \n",
       "4  Auburn Gresham     30659  25304   4273  29388.71473  0.050596   \n",
       "\n",
       "   PopOv25wBach  PopOv25wHS  Community Area  \n",
       "0      0.303430    0.758778              14  \n",
       "1      0.111782    0.680639              57  \n",
       "2      0.212556    0.656055              34  \n",
       "3      0.200209    0.829417              70  \n",
       "4      0.139372    0.825337              71  "
      ]
     },
     "execution_count": 1,
     "metadata": {},
     "output_type": "execute_result"
    }
   ],
   "source": [
    "import pandas as pd\n",
    "df = pd.read_csv(\"ACS_data10.csv\")\n",
    "df.head()"
   ]
  },
  {
   "cell_type": "code",
   "execution_count": null,
   "metadata": {
    "collapsed": true
   },
   "outputs": [],
   "source": []
  }
 ],
 "metadata": {
  "kernelspec": {
   "display_name": "Python 3",
   "language": "python",
   "name": "python3"
  },
  "language_info": {
   "codemirror_mode": {
    "name": "ipython",
    "version": 3
   },
   "file_extension": ".py",
   "mimetype": "text/x-python",
   "name": "python",
   "nbconvert_exporter": "python",
   "pygments_lexer": "ipython3",
   "version": "3.6.2"
  }
 },
 "nbformat": 4,
 "nbformat_minor": 2
}
